{
  "nbformat": 4,
  "nbformat_minor": 0,
  "metadata": {
    "colab": {
      "provenance": []
    },
    "kernelspec": {
      "name": "python3",
      "display_name": "Python 3"
    },
    "language_info": {
      "name": "python"
    }
  },
  "cells": [
    {
      "cell_type": "code",
      "source": [
        "from collections import defaultdict\n",
        "import random\n",
        "\n",
        "def split_text_into_words(text):\n",
        "    \"\"\"Splits the given text into a list of words.\"\"\"\n",
        "    return text.split()\n",
        ""
      ],
      "metadata": {
        "id": "7ciDjbkjQbM0"
      },
      "execution_count": null,
      "outputs": []
    },
    {
      "cell_type": "code",
      "source": [
        "def add_state_transitions(words, chain_length, markov_chain):\n",
        "    \"\"\"\n",
        "    Builds state transitions from the list of words and updates the markov_chain dictionary.\n",
        "    \"\"\"\n",
        "    for i in range(len(words) - chain_length):\n",
        "        state = tuple(words[i:i+chain_length])  # Define the current state\n",
        "        next_word = words[i + chain_length]  # Define the next word after the state\n",
        "        markov_chain[state][next_word] += 1  # Update the transition count from state to next_word\n"
      ],
      "metadata": {
        "id": "NqjYJ874Qejw"
      },
      "execution_count": null,
      "outputs": []
    },
    {
      "cell_type": "code",
      "source": [
        "def convert_counts_to_probabilities(markov_chain):\n",
        "    \"\"\"\n",
        "    Converts transition counts to probabilities in the markov_chain dictionary.\n",
        "    \"\"\"\n",
        "    for state, next_words in markov_chain.items():\n",
        "        total = sum(next_words.values())\n",
        "        markov_chain[state] = {word: count / total for word, count in next_words.items()}\n"
      ],
      "metadata": {
        "id": "pRzNwEqTQhcL"
      },
      "execution_count": null,
      "outputs": []
    },
    {
      "cell_type": "code",
      "source": [
        "def build_markov_chain(text, chain_length):\n",
        "    \"\"\"\n",
        "    Builds a Markov chain model using the specified chain_length from the given text.\n",
        "    \"\"\"\n",
        "    markov_chain = defaultdict(lambda: defaultdict(int))\n",
        "    words = split_text_into_words(text)\n",
        "    add_state_transitions(words, chain_length, markov_chain)\n",
        "    convert_counts_to_probabilities(markov_chain)\n",
        "    return markov_chain\n"
      ],
      "metadata": {
        "id": "8XzSJFlnQj9U"
      },
      "execution_count": null,
      "outputs": []
    },
    {
      "cell_type": "code",
      "execution_count": 4,
      "metadata": {
        "id": "iT0RL5WfK7UM"
      },
      "outputs": [],
      "source": [
        "def generate(text, start_words, chain_length, num_generated):\n",
        "    markov_chain = build_markov_chain(text, chain_length)\n",
        "    current_state = tuple(start_words)\n",
        "    if len(current_state) != chain_length:\n",
        "        raise ValueError(\"The length of start_words must be equal to chain_length\")\n",
        "\n",
        "    generated_words = list(current_state)  # Start with the initial state\n",
        "    for _ in range(num_generated - chain_length):\n",
        "        next_word_choices = markov_chain.get(current_state)\n",
        "        if not next_word_choices:\n",
        "            break  # Break if the next state isn't found\n",
        "        next_word = random.choices(list(next_word_choices.keys()), weights=next_word_choices.values())[0]\n",
        "        generated_words.append(next_word)\n",
        "        current_state = (*current_state[1:], next_word)  # Update the current state\n",
        "\n",
        "    return ' '.join(generated_words)\n"
      ]
    },
    {
      "cell_type": "code",
      "source": [
        "# Example usage\n",
        "text = \"This is an example text. It is not very long, but it is meaningful for our example. This example shows how Markov chains can be used.\"\n",
        "start_words = [\"This\", \"is\"]\n",
        "chain_length = 2\n",
        "num_generated = 10\n",
        "print(generate(text, start_words, chain_length, num_generated))\n"
      ],
      "metadata": {
        "colab": {
          "base_uri": "https://localhost:8080/"
        },
        "id": "p8eeXSVqK8N6",
        "outputId": "3afc176c-9450-4caf-8cd6-df11350b9698"
      },
      "execution_count": 5,
      "outputs": [
        {
          "output_type": "stream",
          "name": "stdout",
          "text": [
            "This is an example text. It is not very long,\n"
          ]
        }
      ]
    },
    {
      "cell_type": "code",
      "source": [
        "# Test Case 1: Simple Repetitive Text\n",
        "text1 = \"hello world hello world hello world\"\n",
        "start_words1 = [\"hello\", \"world\"]\n",
        "chain_length1 = 2\n",
        "num_generated1 = 6\n",
        "print(generate(text1, start_words1, chain_length1, num_generated1))\n"
      ],
      "metadata": {
        "colab": {
          "base_uri": "https://localhost:8080/"
        },
        "id": "t3JXL5WyQoBX",
        "outputId": "d8d3e271-6d65-4846-da63-302f832d92f5"
      },
      "execution_count": 6,
      "outputs": [
        {
          "output_type": "stream",
          "name": "stdout",
          "text": [
            "hello world hello world hello world\n"
          ]
        }
      ]
    },
    {
      "cell_type": "code",
      "source": [
        "# Test Case 2: Handling Unknown Start Words\n",
        "text2 = \"one two three, three four five\"\n",
        "start_words2 = [\"two\", \"four\"]\n",
        "chain_length2 = 2\n",
        "num_generated2 = 5\n",
        "try:\n",
        "    print(generate(text2, start_words2, chain_length2, num_generated2))\n",
        "except ValueError as e:\n",
        "    print(e)\n"
      ],
      "metadata": {
        "colab": {
          "base_uri": "https://localhost:8080/"
        },
        "id": "o8X-sa4YROvc",
        "outputId": "c7e10095-75fc-4eab-88be-00a188c60884"
      },
      "execution_count": 11,
      "outputs": [
        {
          "output_type": "stream",
          "name": "stdout",
          "text": [
            "two four\n"
          ]
        }
      ]
    },
    {
      "cell_type": "code",
      "source": [
        "# Test Case 3: Short Text with Limited Options\n",
        "text3 = \"I like to eat apples. I like to play games.\"\n",
        "start_words3 = [\"I\", \"like\"]\n",
        "chain_length3 = 2\n",
        "num_generated3 = 10\n",
        "print(generate(text3, start_words3, chain_length3, num_generated3))\n"
      ],
      "metadata": {
        "colab": {
          "base_uri": "https://localhost:8080/"
        },
        "id": "5iP8sf8IRWxJ",
        "outputId": "c635b958-ec5c-43e7-e612-3bd563a95113"
      },
      "execution_count": 8,
      "outputs": [
        {
          "output_type": "stream",
          "name": "stdout",
          "text": [
            "I like to play games.\n"
          ]
        }
      ]
    },
    {
      "cell_type": "code",
      "source": [
        "# Test Case 4: Long Text with Punctuation\n",
        "text4 = \"This is a sentence. This sentence is longer. This one? Quite short. Finally, a very long sentence indeed, don't you think?\"\n",
        "start_words4 = [\"This\", \"is\"]\n",
        "chain_length4 = 2\n",
        "num_generated4 = 20\n",
        "print(generate(text4, start_words4, chain_length4, num_generated4))\n"
      ],
      "metadata": {
        "colab": {
          "base_uri": "https://localhost:8080/"
        },
        "id": "gOQqcCywRdKv",
        "outputId": "488fce64-36d0-4ff5-bfad-6526a0c86f22"
      },
      "execution_count": 9,
      "outputs": [
        {
          "output_type": "stream",
          "name": "stdout",
          "text": [
            "This is a sentence. This sentence is longer. This one? Quite short. Finally, a very long sentence indeed, don't you\n"
          ]
        }
      ]
    },
    {
      "cell_type": "code",
      "source": [
        "# Test Case 5: Non-English Text\n",
        "text5 = \"esto es una prueba. esta prueba es para verificar el comportamiento.\"\n",
        "start_words5 = [\"esto\", \"es\"]\n",
        "chain_length5 = 2\n",
        "num_generated5 = 10\n",
        "print(generate(text5, start_words5, chain_length5, num_generated5))\n"
      ],
      "metadata": {
        "colab": {
          "base_uri": "https://localhost:8080/"
        },
        "id": "koJ9ZXceRicg",
        "outputId": "57a1349e-55e1-4c5e-9c9f-df0508a51a0c"
      },
      "execution_count": 10,
      "outputs": [
        {
          "output_type": "stream",
          "name": "stdout",
          "text": [
            "esto es una prueba. esta prueba es para verificar el\n"
          ]
        }
      ]
    },
    {
      "cell_type": "code",
      "source": [],
      "metadata": {
        "id": "rqpcDHpaRntk"
      },
      "execution_count": null,
      "outputs": []
    }
  ]
}