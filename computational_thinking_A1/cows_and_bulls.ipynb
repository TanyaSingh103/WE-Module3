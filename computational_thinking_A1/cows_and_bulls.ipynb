{
  "nbformat": 4,
  "nbformat_minor": 0,
  "metadata": {
    "colab": {
      "provenance": []
    },
    "kernelspec": {
      "name": "python3",
      "display_name": "Python 3"
    },
    "language_info": {
      "name": "python"
    }
  },
  "cells": [
    {
      "cell_type": "code",
      "source": [
        "import random\n",
        "\n",
        "def load_words(file_path):\n",
        "    \"\"\"Load and return a list of 4-letter words from the provided file.\"\"\"\n",
        "    return [line.strip() for line in open(file_path)]"
      ],
      "metadata": {
        "id": "uSOfJx3tHdmX"
      },
      "execution_count": 2,
      "outputs": []
    },
    {
      "cell_type": "code",
      "source": [
        "def filter_words(words, guess, cows, bulls):\n",
        "    \"\"\"Filter words based on cows and bulls feedback.\"\"\"\n",
        "    def match_cows_bulls(word):\n",
        "        common = sum(min(guess.count(c), word.count(c)) for c in set(guess))\n",
        "        match = sum(g == w for g, w in zip(guess, word))\n",
        "        return match == bulls and (common - match) == cows\n",
        "\n",
        "    return [word for word in words if match_cows_bulls(word)]\n",
        ""
      ],
      "metadata": {
        "id": "2CWp9gQBHge6"
      },
      "execution_count": 3,
      "outputs": []
    },
    {
      "cell_type": "code",
      "execution_count": 6,
      "metadata": {
        "id": "r2CX_KgKq2C_"
      },
      "outputs": [],
      "source": [
        "def play_cows_and_bulls(file_path):\n",
        "    words = load_words(file_path)\n",
        "    best_starts = ['acre', 'pain', 'riot', 'mile', 'quit']\n",
        "\n",
        "    print(\"Let's play Cows and Bulls!\")\n",
        "    print(\"Think of a 4-letter word, and I'll try to guess it.\")\n",
        "    print(\"You'll need to tell me how many bulls (correct letter in the correct position) I get for each guess.\")\n",
        "    print(\"If there are cows (correct letter in the wrong position), you'll tell me that too, unless all 4 are bulls!\")\n",
        "\n",
        "    attempts = 0\n",
        "    while words:\n",
        "        if best_starts:\n",
        "            guess = best_starts.pop(0)\n",
        "        else:\n",
        "            guess = random.choice(words)\n",
        "\n",
        "        print(f\"My guess is: {guess}\")\n",
        "        bulls = int(input(\"Bulls: \"))\n",
        "\n",
        "        if bulls == 4:\n",
        "            print(f\"I guessed the word '{guess}' in {attempts + 1} tries!\")\n",
        "            break\n",
        "\n",
        "        cows = int(input(\"Cows: \"))\n",
        "        attempts += 1\n",
        "\n",
        "        words = filter_words(words, guess, cows, bulls)\n",
        "        if not words:\n",
        "            print(\"Seems like there's been some confusion. Let's try again.\")\n",
        "            break\n"
      ]
    },
    {
      "cell_type": "code",
      "source": [
        "play_cows_and_bulls(\"four_letter_words.txt\")"
      ],
      "metadata": {
        "id": "dSeik_oTuThk",
        "colab": {
          "base_uri": "https://localhost:8080/"
        },
        "outputId": "b84f5efa-6e55-40e7-bc68-0612568fa683"
      },
      "execution_count": 7,
      "outputs": [
        {
          "output_type": "stream",
          "name": "stdout",
          "text": [
            "Let's play Cows and Bulls!\n",
            "Think of a 4-letter word, and I'll try to guess it.\n",
            "You'll need to tell me how many bulls (correct letter in the correct position) I get for each guess.\n",
            "If there are cows (correct letter in the wrong position), you'll tell me that too, unless all 4 are bulls!\n",
            "My guess is: acre\n",
            "Bulls: 0\n",
            "Cows: 0\n",
            "My guess is: pain\n",
            "Bulls: 1\n",
            "Cows: 2\n",
            "My guess is: riot\n",
            "Bulls: 1\n",
            "Cows: 0\n",
            "My guess is: mile\n",
            "Bulls: 1\n",
            "Cows: 0\n",
            "My guess is: quit\n",
            "Bulls: 0\n",
            "Cows: 1\n",
            "My guess is: ping\n",
            "Bulls: 3\n",
            "Cows: 0\n",
            "My guess is: pins\n",
            "Bulls: 3\n",
            "Cows: 0\n",
            "My guess is: piny\n",
            "Bulls: 3\n",
            "Cows: 0\n",
            "My guess is: pink\n",
            "Bulls: 4\n",
            "I guessed the word 'pink' in 9 tries!\n"
          ]
        }
      ]
    },
    {
      "cell_type": "code",
      "source": [],
      "metadata": {
        "id": "SYG2KHZyHqch"
      },
      "execution_count": null,
      "outputs": []
    }
  ]
}