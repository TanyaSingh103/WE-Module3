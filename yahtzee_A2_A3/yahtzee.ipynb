{
  "nbformat": 4,
  "nbformat_minor": 0,
  "metadata": {
    "colab": {
      "provenance": []
    },
    "kernelspec": {
      "name": "python3",
      "display_name": "Python 3"
    },
    "language_info": {
      "name": "python"
    }
  },
  "cells": [
    {
      "cell_type": "code",
      "source": [
        "import random\n",
        "from collections import Counter\n",
        "\n",
        "def roll_dice(num_dice):\n",
        "    return [random.randint(1, 6) for _ in range(num_dice)]\n",
        "\n",
        "def count_dice(dice):\n",
        "    return Counter(dice)\n"
      ],
      "metadata": {
        "id": "bW1Ypv9qAwWC"
      },
      "execution_count": null,
      "outputs": []
    },
    {
      "cell_type": "code",
      "source": [
        "# Define scoring functions\n",
        "def score_ones_through_sixes(dice, number):\n",
        "    return dice.count(number) * number\n",
        "\n",
        "def score_three_of_a_kind(dice):\n",
        "    if any(count >= 3 for count in count_dice(dice).values()):\n",
        "        return sum(dice)\n",
        "    return 0\n",
        "\n",
        "def score_four_of_a_kind(dice):\n",
        "    if any(count >= 4 for count in count_dice(dice).values()):\n",
        "        return sum(dice)\n",
        "    return 0\n",
        "\n",
        "def score_full_house(dice):\n",
        "    counts = count_dice(dice).values()\n",
        "    return 25 if sorted(counts) == [2, 3] else 0\n",
        "\n",
        "def score_small_straight(dice):\n",
        "    unique_dice = set(dice)\n",
        "    straights = [{1, 2, 3, 4}, {2, 3, 4, 5}, {3, 4, 5, 6}]\n",
        "    return 30 if any(straight.issubset(unique_dice) for straight in straights) else 0\n",
        "\n",
        "def score_large_straight(dice):\n",
        "    return 40 if set(dice) in [{1, 2, 3, 4, 5}, {2, 3, 4, 5, 6}] else 0\n",
        "\n",
        "def score_chance(dice):\n",
        "    return sum(dice)\n",
        "\n",
        "def score_yahtzee(dice):\n",
        "    return 50 if len(set(dice)) == 1 else 0\n",
        "\n",
        "SCORING_FUNCTIONS = {\n",
        "    \"Ones\": lambda dice: score_ones_through_sixes(dice, 1),\n",
        "    \"Twos\": lambda dice: score_ones_through_sixes(dice, 2),\n",
        "    \"Threes\": lambda dice: score_ones_through_sixes(dice, 3),\n",
        "    \"Fours\": lambda dice: score_ones_through_sixes(dice, 4),\n",
        "    \"Fives\": lambda dice: score_ones_through_sixes(dice, 5),\n",
        "    \"Sixes\": lambda dice: score_ones_through_sixes(dice, 6),\n",
        "    \"Three of a Kind\": score_three_of_a_kind,\n",
        "    \"Four of a Kind\": score_four_of_a_kind,\n",
        "    \"Full House\": score_full_house,\n",
        "    \"Small Straight\": score_small_straight,\n",
        "    \"Large Straight\": score_large_straight,\n",
        "    \"Chance\": score_chance,\n",
        "    \"Yahtzee\": score_yahtzee,\n",
        "}\n"
      ],
      "metadata": {
        "id": "RXxpRqiTA5xB"
      },
      "execution_count": null,
      "outputs": []
    },
    {
      "cell_type": "code",
      "source": [
        "def handle_rerolls(dice):\n",
        "    for _ in range(3):\n",
        "        print(f\"Current roll: {dice}\")\n",
        "        rerolls = input(\"Enter positions of dice to re-roll, or press enter to keep: \")\n",
        "        if not rerolls:\n",
        "            break\n",
        "        indexes_to_reroll = [int(pos) - 1 for pos in rerolls.split() if pos.isdigit() and 1 <= int(pos) <= 5]\n",
        "        for index in indexes_to_reroll:\n",
        "            dice[index] = random.randint(1, 6)\n",
        "    return dice\n"
      ],
      "metadata": {
        "id": "vGbNnxiSA9Um"
      },
      "execution_count": null,
      "outputs": []
    },
    {
      "cell_type": "code",
      "source": [
        "def calculate_scores(dice):\n",
        "    return {category: func(dice) for category, func in SCORING_FUNCTIONS.items()}\n",
        "\n",
        "def choose_category(scores, scored_categories):\n",
        "    while True:\n",
        "        print(\"\\nAvailable categories for scoring:\")\n",
        "        for category, score in scores.items():\n",
        "            if category not in scored_categories:\n",
        "                print(f\"{category}: {score}\")\n",
        "        choice = input(\"Choose a category to add your score to: \")\n",
        "        if choice in SCORING_FUNCTIONS and choice not in scored_categories:\n",
        "            return choice\n",
        "        else:\n",
        "            print(\"Invalid choice or category already scored. Please choose again.\")\n"
      ],
      "metadata": {
        "id": "zrlcSMt5BBHZ"
      },
      "execution_count": null,
      "outputs": []
    },
    {
      "cell_type": "code",
      "source": [
        "def yahtzee_game():\n",
        "    total_scores = {category: 0 for category in SCORING_FUNCTIONS}\n",
        "    scored_categories = []\n",
        "\n",
        "    rounds = 13  # Standard number of rounds in Yahtzee\n",
        "\n",
        "    for round_number in range(1, rounds + 1):\n",
        "        print(f\"\\nRound {round_number}/{rounds}\")\n",
        "        dice = roll_dice(5)\n",
        "        dice = handle_rerolls(dice)\n",
        "        print(f\"Final roll: {dice}\")\n",
        "\n",
        "        round_scores = calculate_scores(dice)\n",
        "        chosen_category = choose_category(round_scores, scored_categories)\n",
        "        scored_categories.append(chosen_category)\n",
        "        total_scores[chosen_category] = round_scores[chosen_category]\n",
        "        print(f\"Scored {round_scores[chosen_category]} points in {chosen_category}\")\n",
        "\n",
        "    print(\"\\nFinal Scores:\")\n",
        "    for category, score in total_scores.items():\n",
        "        print(f\"{category}: {score}\")\n",
        "    print(f\"Total Score: {sum(total_scores.values())}\")"
      ],
      "metadata": {
        "id": "sSrjSwaR1LBt"
      },
      "execution_count": null,
      "outputs": []
    },
    {
      "cell_type": "code",
      "source": [
        "#TESTCASES\n",
        "score_ones_through_sixes([1, 2, 1, 4, 5], 1)"
      ],
      "metadata": {
        "colab": {
          "base_uri": "https://localhost:8080/"
        },
        "id": "RNGa03EkC3GO",
        "outputId": "0bbbc959-ce15-4ce4-a1e7-62fb5c0852c2"
      },
      "execution_count": null,
      "outputs": [
        {
          "output_type": "execute_result",
          "data": {
            "text/plain": [
              "2"
            ]
          },
          "metadata": {},
          "execution_count": 23
        }
      ]
    },
    {
      "cell_type": "code",
      "source": [
        "score_ones_through_sixes([2, 2, 3, 4, 5], 2)"
      ],
      "metadata": {
        "colab": {
          "base_uri": "https://localhost:8080/"
        },
        "id": "jfLLX8ynC53Y",
        "outputId": "3af9d00d-4bbc-4df0-b57b-e28115156d56"
      },
      "execution_count": null,
      "outputs": [
        {
          "output_type": "execute_result",
          "data": {
            "text/plain": [
              "4"
            ]
          },
          "metadata": {},
          "execution_count": 24
        }
      ]
    },
    {
      "cell_type": "code",
      "source": [
        "score_three_of_a_kind([3, 3, 3, 4, 5])"
      ],
      "metadata": {
        "colab": {
          "base_uri": "https://localhost:8080/"
        },
        "id": "7HBjwFIkC_EL",
        "outputId": "2222231a-7f09-42ae-a179-96086b3bcd60"
      },
      "execution_count": null,
      "outputs": [
        {
          "output_type": "execute_result",
          "data": {
            "text/plain": [
              "18"
            ]
          },
          "metadata": {},
          "execution_count": 25
        }
      ]
    },
    {
      "cell_type": "code",
      "source": [
        "score_four_of_a_kind([4, 4, 4, 4, 5])"
      ],
      "metadata": {
        "colab": {
          "base_uri": "https://localhost:8080/"
        },
        "id": "BRO1gtk6DDKX",
        "outputId": "421a8374-a494-49a2-dea6-53f0822832b4"
      },
      "execution_count": null,
      "outputs": [
        {
          "output_type": "execute_result",
          "data": {
            "text/plain": [
              "21"
            ]
          },
          "metadata": {},
          "execution_count": 26
        }
      ]
    },
    {
      "cell_type": "code",
      "source": [
        "score_full_house([2, 2, 3, 3, 3])"
      ],
      "metadata": {
        "colab": {
          "base_uri": "https://localhost:8080/"
        },
        "id": "4JLhRyn-DGjo",
        "outputId": "acd9605e-c633-431f-f212-ea4728b5e1ac"
      },
      "execution_count": null,
      "outputs": [
        {
          "output_type": "execute_result",
          "data": {
            "text/plain": [
              "25"
            ]
          },
          "metadata": {},
          "execution_count": 27
        }
      ]
    },
    {
      "cell_type": "code",
      "source": [
        "score_full_house([2, 2, 3, 3, 4])"
      ],
      "metadata": {
        "colab": {
          "base_uri": "https://localhost:8080/"
        },
        "id": "H1IvmqSHDJXL",
        "outputId": "35fb9928-07e3-4b82-ea19-17a2a6e40642"
      },
      "execution_count": null,
      "outputs": [
        {
          "output_type": "execute_result",
          "data": {
            "text/plain": [
              "0"
            ]
          },
          "metadata": {},
          "execution_count": 28
        }
      ]
    },
    {
      "cell_type": "code",
      "source": [
        "score_small_straight([1, 2, 3, 4, 6])"
      ],
      "metadata": {
        "colab": {
          "base_uri": "https://localhost:8080/"
        },
        "id": "aRS0-5kMDMT-",
        "outputId": "c2563953-56bf-4c60-f160-34953176554a"
      },
      "execution_count": null,
      "outputs": [
        {
          "output_type": "execute_result",
          "data": {
            "text/plain": [
              "30"
            ]
          },
          "metadata": {},
          "execution_count": 29
        }
      ]
    },
    {
      "cell_type": "code",
      "source": [
        "score_large_straight([2, 3, 4, 5, 6])"
      ],
      "metadata": {
        "colab": {
          "base_uri": "https://localhost:8080/"
        },
        "id": "oAd2wD48DO3R",
        "outputId": "f74d458d-7167-4d60-dc9f-ce947c5ed432"
      },
      "execution_count": null,
      "outputs": [
        {
          "output_type": "execute_result",
          "data": {
            "text/plain": [
              "40"
            ]
          },
          "metadata": {},
          "execution_count": 30
        }
      ]
    },
    {
      "cell_type": "code",
      "source": [
        "score_chance([5, 5, 5, 5, 5])"
      ],
      "metadata": {
        "colab": {
          "base_uri": "https://localhost:8080/"
        },
        "id": "C0nogwCgDRH_",
        "outputId": "3968f8c3-1c50-494c-da07-24d4ebc42eff"
      },
      "execution_count": null,
      "outputs": [
        {
          "output_type": "execute_result",
          "data": {
            "text/plain": [
              "25"
            ]
          },
          "metadata": {},
          "execution_count": 31
        }
      ]
    },
    {
      "cell_type": "code",
      "source": [
        "score_yahtzee([6, 6, 6, 6, 6])"
      ],
      "metadata": {
        "colab": {
          "base_uri": "https://localhost:8080/"
        },
        "id": "B8t4iZZwDTvQ",
        "outputId": "d1fc1d4d-7fc8-43de-8eb3-927b9d8995f9"
      },
      "execution_count": null,
      "outputs": [
        {
          "output_type": "execute_result",
          "data": {
            "text/plain": [
              "50"
            ]
          },
          "metadata": {},
          "execution_count": 32
        }
      ]
    },
    {
      "cell_type": "code",
      "source": [
        "roll_dice(5)"
      ],
      "metadata": {
        "colab": {
          "base_uri": "https://localhost:8080/"
        },
        "id": "uiw8LO-uDWL2",
        "outputId": "2c4721bb-f200-4b73-efb9-682bed81970b"
      },
      "execution_count": null,
      "outputs": [
        {
          "output_type": "execute_result",
          "data": {
            "text/plain": [
              "[4, 2, 2, 4, 3]"
            ]
          },
          "metadata": {},
          "execution_count": 33
        }
      ]
    },
    {
      "cell_type": "code",
      "source": [
        "yahtzee_game()"
      ],
      "metadata": {
        "colab": {
          "base_uri": "https://localhost:8080/"
        },
        "id": "aJ9Pa-T3DaHf",
        "outputId": "f9c3fedc-b1f7-4187-ad07-2acdaa00f211"
      },
      "execution_count": null,
      "outputs": [
        {
          "output_type": "stream",
          "name": "stdout",
          "text": [
            "\n",
            "Round 1/13\n",
            "Current roll: [6, 4, 1, 3, 6]\n",
            "Enter positions of dice to re-roll, or press enter to keep: 2 3 4\n",
            "Current roll: [6, 5, 5, 2, 6]\n",
            "Enter positions of dice to re-roll, or press enter to keep: 4\n",
            "Current roll: [6, 5, 5, 3, 6]\n",
            "Enter positions of dice to re-roll, or press enter to keep: 4\n",
            "Final roll: [6, 5, 5, 2, 6]\n",
            "\n",
            "Available categories for scoring:\n",
            "Ones: 0\n",
            "Twos: 2\n",
            "Threes: 0\n",
            "Fours: 0\n",
            "Fives: 10\n",
            "Sixes: 12\n",
            "Three of a Kind: 0\n",
            "Four of a Kind: 0\n",
            "Full House: 0\n",
            "Small Straight: 0\n",
            "Large Straight: 0\n",
            "Chance: 24\n",
            "Yahtzee: 0\n",
            "Choose a category to add your score to: Chance\n",
            "Scored 24 points in Chance\n",
            "\n",
            "Round 2/13\n",
            "Current roll: [1, 6, 5, 6, 6]\n",
            "Enter positions of dice to re-roll, or press enter to keep: 1 3\n",
            "Current roll: [4, 6, 6, 6, 6]\n",
            "Enter positions of dice to re-roll, or press enter to keep: -1\n",
            "Current roll: [4, 6, 6, 6, 6]\n",
            "Enter positions of dice to re-roll, or press enter to keep: 1\n",
            "Final roll: [4, 6, 6, 6, 6]\n",
            "\n",
            "Available categories for scoring:\n",
            "Ones: 0\n",
            "Twos: 0\n",
            "Threes: 0\n",
            "Fours: 4\n",
            "Fives: 0\n",
            "Sixes: 24\n",
            "Three of a Kind: 28\n",
            "Four of a Kind: 28\n",
            "Full House: 0\n",
            "Small Straight: 0\n",
            "Large Straight: 0\n",
            "Yahtzee: 0\n",
            "Choose a category to add your score to: Four of a Kind\n",
            "Scored 28 points in Four of a Kind\n",
            "\n",
            "Round 3/13\n",
            "Current roll: [5, 6, 6, 3, 5]\n",
            "Enter positions of dice to re-roll, or press enter to keep: 7\n",
            "Current roll: [5, 6, 6, 3, 5]\n",
            "Enter positions of dice to re-roll, or press enter to keep: 4\n",
            "Current roll: [5, 6, 6, 1, 5]\n",
            "Enter positions of dice to re-roll, or press enter to keep: 4\n",
            "Final roll: [5, 6, 6, 2, 5]\n",
            "\n",
            "Available categories for scoring:\n",
            "Ones: 0\n",
            "Twos: 2\n",
            "Threes: 0\n",
            "Fours: 0\n",
            "Fives: 10\n",
            "Sixes: 12\n",
            "Three of a Kind: 0\n",
            "Full House: 0\n",
            "Small Straight: 0\n",
            "Large Straight: 0\n",
            "Yahtzee: 0\n",
            "Choose a category to add your score to: Twos\n",
            "Scored 2 points in Twos\n",
            "\n",
            "Round 4/13\n",
            "Current roll: [3, 2, 5, 2, 6]\n",
            "Enter positions of dice to re-roll, or press enter to keep: 4\n",
            "Current roll: [3, 2, 5, 5, 6]\n",
            "Enter positions of dice to re-roll, or press enter to keep: 4\n",
            "Current roll: [3, 2, 5, 3, 6]\n",
            "Enter positions of dice to re-roll, or press enter to keep: 4\n",
            "Final roll: [3, 2, 5, 4, 6]\n",
            "\n",
            "Available categories for scoring:\n",
            "Ones: 0\n",
            "Threes: 3\n",
            "Fours: 4\n",
            "Fives: 5\n",
            "Sixes: 6\n",
            "Three of a Kind: 0\n",
            "Full House: 0\n",
            "Small Straight: 30\n",
            "Large Straight: 40\n",
            "Yahtzee: 0\n",
            "Choose a category to add your score to: Large Straight\n",
            "Scored 40 points in Large Straight\n",
            "\n",
            "Round 5/13\n",
            "Current roll: [4, 4, 3, 4, 4]\n",
            "Enter positions of dice to re-roll, or press enter to keep: 3\n",
            "Current roll: [4, 4, 4, 4, 4]\n",
            "Enter positions of dice to re-roll, or press enter to keep: \n",
            "Final roll: [4, 4, 4, 4, 4]\n",
            "\n",
            "Available categories for scoring:\n",
            "Ones: 0\n",
            "Threes: 0\n",
            "Fours: 20\n",
            "Fives: 0\n",
            "Sixes: 0\n",
            "Three of a Kind: 20\n",
            "Full House: 0\n",
            "Small Straight: 0\n",
            "Yahtzee: 50\n",
            "Choose a category to add your score to: Yahtzee\n",
            "Scored 50 points in Yahtzee\n",
            "\n",
            "Round 6/13\n",
            "Current roll: [1, 2, 1, 3, 3]\n",
            "Enter positions of dice to re-roll, or press enter to keep: 2\n",
            "Current roll: [1, 3, 1, 3, 3]\n",
            "Enter positions of dice to re-roll, or press enter to keep: \n",
            "Final roll: [1, 3, 1, 3, 3]\n",
            "\n",
            "Available categories for scoring:\n",
            "Ones: 2\n",
            "Threes: 9\n",
            "Fours: 0\n",
            "Fives: 0\n",
            "Sixes: 0\n",
            "Three of a Kind: 11\n",
            "Full House: 25\n",
            "Small Straight: 0\n",
            "Choose a category to add your score to: Full House\n",
            "Scored 25 points in Full House\n",
            "\n",
            "Round 7/13\n",
            "Current roll: [3, 3, 1, 6, 4]\n",
            "Enter positions of dice to re-roll, or press enter to keep: 1 4\n",
            "Current roll: [4, 3, 1, 1, 4]\n",
            "Enter positions of dice to re-roll, or press enter to keep: 1 4\n",
            "Current roll: [3, 3, 1, 6, 4]\n",
            "Enter positions of dice to re-roll, or press enter to keep: 1 4\n",
            "Final roll: [6, 3, 1, 4, 4]\n",
            "\n",
            "Available categories for scoring:\n",
            "Ones: 1\n",
            "Threes: 3\n",
            "Fours: 8\n",
            "Fives: 0\n",
            "Sixes: 6\n",
            "Three of a Kind: 0\n",
            "Small Straight: 0\n",
            "Choose a category to add your score to: Fours\n",
            "Scored 8 points in Fours\n",
            "\n",
            "Round 8/13\n",
            "Current roll: [4, 1, 4, 3, 1]\n",
            "Enter positions of dice to re-roll, or press enter to keep: 1 5\n",
            "Current roll: [5, 1, 4, 3, 5]\n",
            "Enter positions of dice to re-roll, or press enter to keep: 5\n",
            "Current roll: [5, 1, 4, 3, 5]\n",
            "Enter positions of dice to re-roll, or press enter to keep: 5\n",
            "Final roll: [5, 1, 4, 3, 5]\n",
            "\n",
            "Available categories for scoring:\n",
            "Ones: 1\n",
            "Threes: 3\n",
            "Fives: 10\n",
            "Sixes: 0\n",
            "Three of a Kind: 0\n",
            "Small Straight: 0\n",
            "Choose a category to add your score to: Fives\n",
            "Scored 10 points in Fives\n",
            "\n",
            "Round 9/13\n",
            "Current roll: [5, 5, 6, 1, 2]\n",
            "Enter positions of dice to re-roll, or press enter to keep: 3 4 5\n",
            "Current roll: [5, 5, 1, 1, 3]\n",
            "Enter positions of dice to re-roll, or press enter to keep: 3 4 5\n",
            "Current roll: [5, 5, 3, 1, 3]\n",
            "Enter positions of dice to re-roll, or press enter to keep: 3 4 5\n",
            "Final roll: [5, 5, 1, 6, 4]\n",
            "\n",
            "Available categories for scoring:\n",
            "Ones: 1\n",
            "Threes: 0\n",
            "Sixes: 6\n",
            "Three of a Kind: 0\n",
            "Small Straight: 0\n",
            "Choose a category to add your score to: Ones\n",
            "Scored 1 points in Ones\n",
            "\n",
            "Round 10/13\n",
            "Current roll: [2, 2, 6, 3, 6]\n",
            "Enter positions of dice to re-roll, or press enter to keep: 1 2 4\n",
            "Current roll: [2, 4, 6, 5, 6]\n",
            "Enter positions of dice to re-roll, or press enter to keep: 1 2 4\n",
            "Current roll: [3, 1, 6, 6, 6]\n",
            "Enter positions of dice to re-roll, or press enter to keep: 1 2\n",
            "Final roll: [1, 6, 6, 6, 6]\n",
            "\n",
            "Available categories for scoring:\n",
            "Threes: 0\n",
            "Sixes: 24\n",
            "Three of a Kind: 25\n",
            "Small Straight: 0\n",
            "Choose a category to add your score to: Sixes\n",
            "Scored 24 points in Sixes\n",
            "\n",
            "Round 11/13\n",
            "Current roll: [5, 5, 4, 3, 4]\n",
            "Enter positions of dice to re-roll, or press enter to keep: 3 4 5\n",
            "Current roll: [5, 5, 5, 5, 6]\n",
            "Enter positions of dice to re-roll, or press enter to keep: \n",
            "Final roll: [5, 5, 5, 5, 6]\n",
            "\n",
            "Available categories for scoring:\n",
            "Threes: 0\n",
            "Three of a Kind: 26\n",
            "Small Straight: 0\n",
            "Choose a category to add your score to: Three of a Kind\n",
            "Scored 26 points in Three of a Kind\n",
            "\n",
            "Round 12/13\n",
            "Current roll: [1, 3, 3, 6, 5]\n",
            "Enter positions of dice to re-roll, or press enter to keep: 1 2\n",
            "Current roll: [2, 5, 3, 6, 5]\n",
            "Enter positions of dice to re-roll, or press enter to keep: 1 2\n",
            "Current roll: [3, 4, 3, 6, 5]\n",
            "Enter positions of dice to re-roll, or press enter to keep: \n",
            "Final roll: [3, 4, 3, 6, 5]\n",
            "\n",
            "Available categories for scoring:\n",
            "Threes: 6\n",
            "Small Straight: 30\n",
            "Choose a category to add your score to: Small Straight\n",
            "Scored 30 points in Small Straight\n",
            "\n",
            "Round 13/13\n",
            "Current roll: [5, 4, 3, 5, 6]\n",
            "Enter positions of dice to re-roll, or press enter to keep: 1 2 4 5\n",
            "Current roll: [3, 5, 3, 6, 2]\n",
            "Enter positions of dice to re-roll, or press enter to keep: 2 4 5\n",
            "Current roll: [3, 5, 3, 6, 5]\n",
            "Enter positions of dice to re-roll, or press enter to keep: 2 4 5\n",
            "Final roll: [3, 2, 3, 5, 6]\n",
            "\n",
            "Available categories for scoring:\n",
            "Threes: 6\n",
            "Choose a category to add your score to: Threes\n",
            "Scored 6 points in Threes\n",
            "\n",
            "Final Scores:\n",
            "Ones: 1\n",
            "Twos: 2\n",
            "Threes: 6\n",
            "Fours: 8\n",
            "Fives: 10\n",
            "Sixes: 24\n",
            "Three of a Kind: 26\n",
            "Four of a Kind: 28\n",
            "Full House: 25\n",
            "Small Straight: 30\n",
            "Large Straight: 40\n",
            "Chance: 24\n",
            "Yahtzee: 50\n",
            "Total Score: 274\n"
          ]
        }
      ]
    },
    {
      "cell_type": "code",
      "source": [],
      "metadata": {
        "id": "O7OxgpsnDnBj"
      },
      "execution_count": null,
      "outputs": []
    }
  ]
}